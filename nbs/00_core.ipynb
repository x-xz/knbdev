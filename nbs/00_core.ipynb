{
 "cells": [
  {
   "cell_type": "code",
   "execution_count": null,
   "metadata": {},
   "outputs": [],
   "source": [
    "# default_exp core"
   ]
  },
  {
   "cell_type": "code",
   "execution_count": null,
   "metadata": {},
   "outputs": [],
   "source": [
    "from nbdev.showdoc import *"
   ]
  },
  {
   "cell_type": "markdown",
   "metadata": {},
   "source": [
    "# hello world"
   ]
  },
  {
   "cell_type": "code",
   "execution_count": null,
   "metadata": {},
   "outputs": [],
   "source": [
    "import numpy as np\n",
    "import scipy as sp"
   ]
  },
  {
   "cell_type": "code",
   "execution_count": null,
   "metadata": {},
   "outputs": [
    {
     "data": {
      "text/plain": [
       "(array([[0.        , 0.16666667, 0.33333333, 0.5       , 0.66666667,\n",
       "         0.83333333, 1.        ],\n",
       "        [0.        , 0.16666667, 0.33333333, 0.5       , 0.66666667,\n",
       "         0.83333333, 1.        ],\n",
       "        [0.        , 0.16666667, 0.33333333, 0.5       , 0.66666667,\n",
       "         0.83333333, 1.        ],\n",
       "        [0.        , 0.16666667, 0.33333333, 0.5       , 0.66666667,\n",
       "         0.83333333, 1.        ],\n",
       "        [0.        , 0.16666667, 0.33333333, 0.5       , 0.66666667,\n",
       "         0.83333333, 1.        ],\n",
       "        [0.        , 0.16666667, 0.33333333, 0.5       , 0.66666667,\n",
       "         0.83333333, 1.        ],\n",
       "        [0.        , 0.16666667, 0.33333333, 0.5       , 0.66666667,\n",
       "         0.83333333, 1.        ],\n",
       "        [0.        , 0.16666667, 0.33333333, 0.5       , 0.66666667,\n",
       "         0.83333333, 1.        ],\n",
       "        [0.        , 0.16666667, 0.33333333, 0.5       , 0.66666667,\n",
       "         0.83333333, 1.        ],\n",
       "        [0.        , 0.16666667, 0.33333333, 0.5       , 0.66666667,\n",
       "         0.83333333, 1.        ],\n",
       "        [0.        , 0.16666667, 0.33333333, 0.5       , 0.66666667,\n",
       "         0.83333333, 1.        ]]), array([[0. , 0. , 0. , 0. , 0. , 0. , 0. ],\n",
       "        [0.1, 0.1, 0.1, 0.1, 0.1, 0.1, 0.1],\n",
       "        [0.2, 0.2, 0.2, 0.2, 0.2, 0.2, 0.2],\n",
       "        [0.3, 0.3, 0.3, 0.3, 0.3, 0.3, 0.3],\n",
       "        [0.4, 0.4, 0.4, 0.4, 0.4, 0.4, 0.4],\n",
       "        [0.5, 0.5, 0.5, 0.5, 0.5, 0.5, 0.5],\n",
       "        [0.6, 0.6, 0.6, 0.6, 0.6, 0.6, 0.6],\n",
       "        [0.7, 0.7, 0.7, 0.7, 0.7, 0.7, 0.7],\n",
       "        [0.8, 0.8, 0.8, 0.8, 0.8, 0.8, 0.8],\n",
       "        [0.9, 0.9, 0.9, 0.9, 0.9, 0.9, 0.9],\n",
       "        [1. , 1. , 1. , 1. , 1. , 1. , 1. ]]))"
      ]
     },
     "execution_count": null,
     "metadata": {},
     "output_type": "execute_result"
    }
   ],
   "source": [
    "x = np.linspace(0, 1, 7)\n",
    "y = np.linspace(0, 1, 11)\n",
    "xx, yy = np.meshgrid(x, y)\n",
    "xx, yy"
   ]
  },
  {
   "cell_type": "code",
   "execution_count": null,
   "metadata": {},
   "outputs": [],
   "source": []
  }
 ],
 "metadata": {
  "kernelspec": {
   "display_name": "Python 3",
   "language": "python",
   "name": "python3"
  }
 },
 "nbformat": 4,
 "nbformat_minor": 2
}
