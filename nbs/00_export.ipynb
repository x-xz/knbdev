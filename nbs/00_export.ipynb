{
 "cells": [
  {
   "cell_type": "code",
   "execution_count": null,
   "metadata": {
    "hide_input": false
   },
   "outputs": [],
   "source": [
    "# export\n",
    "from nbdev.imports import *\n",
    "from fastscript import *"
   ]
  },
  {
   "cell_type": "code",
   "execution_count": null,
   "metadata": {},
   "outputs": [],
   "source": [
    "# default_exp export\n",
    "# default_cls_lvl 3"
   ]
  },
  {
   "cell_type": "code",
   "execution_count": null,
   "metadata": {},
   "outputs": [],
   "source": [
    "#hide\n",
    "#not a dep but we need it for show_doc\n",
    "from nbdev.showdoc import show_doc"
   ]
  },
  {
   "cell_type": "markdown",
   "metadata": {},
   "source": [
    "# Export to modules\n",
    "\n",
    "> The functions that transform notebooks in a library"
   ]
  },
  {
   "cell_type": "markdown",
   "metadata": {},
   "source": [
    "The most important function defined in this module is `notebooks2script`, so you may want to jump to it before scrolling though the rest, which explain the details behind the scenes of the conversion from notebooks to library. The main things to remember are:\n",
    "- put an `# export` flag on each cell you want exported\n",
    "- put an `# exports` flag (for export and show) on each cell you want exported with the source code shown in the docs \n",
    "- one cell should contain `# default_exp` flag followed by the name of the module (with points for submodules and without the py extension) everything should be exported in (if one specific cell needs to be exported in a different module, just indicate it after the `# export` flag: `# export special.module`)\n",
    "- all left members of an equality, functions and classes will be exported and variables that are not private will be put in the `__all__` automatically\n",
    "- to add something to `__all__` if it's not picked automatically, write an exported cell with something like `_all_ = [\"my_name\"]` (the single underscores are intentional)"
   ]
  },
  {
   "cell_type": "markdown",
   "metadata": {},
   "source": [
    "## Basic foundations"
   ]
  },
  {
   "cell_type": "markdown",
   "metadata": {},
   "source": [
    "For bootstrapping `nbdev` we have a few basic foundations defined in `imports`, which we test a show here. First, a simple config file class, `Config` that read the content of your `settings.ini` file and make it accessible:"
   ]
  },
  {
   "cell_type": "code",
   "execution_count": null,
   "metadata": {},
   "outputs": [
    {
     "data": {
      "text/markdown": [
       "<h3 id=\"Config\" class=\"doc_header\"><code>Config</code><a href=\"https://github.com/fastai/nbdev/tree/master/nbdev/imports.py#L24\" class=\"source_link\" style=\"float:right\">[source]</a></h3>\n",
       "\n",
       "> <code>Config</code>(**`cfg_name`**=*`'settings.ini'`*)\n",
       "\n",
       "Store the basic information for nbdev to work"
      ],
      "text/plain": [
       "<IPython.core.display.Markdown object>"
      ]
     },
     "metadata": {},
     "output_type": "display_data"
    }
   ],
   "source": [
    "show_doc(Config, title_level=3)"
   ]
  },
  {
   "cell_type": "code",
   "execution_count": null,
   "metadata": {},
   "outputs": [],
   "source": [
    "create_config(\"nbdev\", user='fastai', path='..', tst_flags='tst', cfg_name='test_settings.ini')\n",
    "cfg = Config(cfg_name='test_settings.ini')\n",
    "test_eq(cfg.lib_name, 'nbdev')\n",
    "test_eq(cfg.git_url, \"https://github.com/fastai/nbdev/tree/master/\")\n",
    "test_eq(cfg.lib_path, Path.cwd().parent/'nbdev')\n",
    "test_eq(cfg.nbs_path, Path.cwd())\n",
    "test_eq(cfg.doc_path, Path.cwd().parent/'docs')\n",
    "test_eq(cfg.custom_sidebar, 'False')"
   ]
  },
  {
   "cell_type": "markdown",
   "metadata": {},
   "source": [
    "We derive some useful variables to check what environment we're in:"
   ]
  },
  {
   "cell_type": "code",
   "execution_count": null,
   "metadata": {},
   "outputs": [],
   "source": [
    "if not os.environ.get(\"IN_TEST\", None):\n",
    "    assert IN_NOTEBOOK\n",
    "    assert not IN_COLAB\n",
    "    assert IN_IPYTHON"
   ]
  },
  {
   "cell_type": "markdown",
   "metadata": {},
   "source": [
    "Then we have a few util functions."
   ]
  },
  {
   "cell_type": "code",
   "execution_count": null,
   "metadata": {},
   "outputs": [
    {
     "data": {
      "text/markdown": [
       "<h4 id=\"last_index\" class=\"doc_header\"><code>last_index</code><a href=\"https://github.com/fastai/nbdev/tree/master/nbdev/imports.py#L49\" class=\"source_link\" style=\"float:right\">[source]</a></h4>\n",
       "\n",
       "> <code>last_index</code>(**`x`**, **`o`**)\n",
       "\n",
       "Finds the last index of occurence of `x` in `o` (returns -1 if no occurence)"
      ],
      "text/plain": [
       "<IPython.core.display.Markdown object>"
      ]
     },
     "metadata": {},
     "output_type": "display_data"
    }
   ],
   "source": [
    "show_doc(last_index)"
   ]
  },
  {
   "cell_type": "code",
   "execution_count": null,
   "metadata": {},
   "outputs": [],
   "source": [
    "test_eq(last_index(1, [1,2,1,3,1,4]), 4)\n",
    "test_eq(last_index(2, [1,2,1,3,1,4]), 1)\n",
    "test_eq(last_index(5, [1,2,1,3,1,4]), -1)"
   ]
  },
  {
   "cell_type": "code",
   "execution_count": null,
   "metadata": {},
   "outputs": [
    {
     "data": {
      "text/markdown": [
       "<h4 id=\"compose\" class=\"doc_header\"><code>compose</code><a href=\"https://github.com/fastai/nbdev/tree/master/nbdev/imports.py#L87\" class=\"source_link\" style=\"float:right\">[source]</a></h4>\n",
       "\n",
       "> <code>compose</code>(**\\*`funcs`**, **`order`**=*`None`*)\n",
       "\n",
       "Create a function that composes all functions in `funcs`, passing along remaining `*args` and `**kwargs` to all"
      ],
      "text/plain": [
       "<IPython.core.display.Markdown object>"
      ]
     },
     "metadata": {},
     "output_type": "display_data"
    }
   ],
   "source": [
    "show_doc(compose)"
   ]
  },
  {
   "cell_type": "code",
   "execution_count": null,
   "metadata": {},
   "outputs": [],
   "source": [
    "f1 = lambda o,p=0: (o*2)+p\n",
    "f2 = lambda o,p=1: (o+1)/p\n",
    "test_eq(f2(f1(3)), compose(f1,f2)(3))\n",
    "test_eq(f2(f1(3,p=3),p=3), compose(f1,f2)(3,p=3))\n",
    "test_eq(f2(f1(3,  3),  3), compose(f1,f2)(3,  3))"
   ]
  },
  {
   "cell_type": "code",
   "execution_count": null,
   "metadata": {},
   "outputs": [
    {
     "data": {
      "text/markdown": [
       "<h4 id=\"parallel\" class=\"doc_header\"><code>parallel</code><a href=\"https://github.com/fastai/nbdev/tree/master/nbdev/imports.py#L118\" class=\"source_link\" style=\"float:right\">[source]</a></h4>\n",
       "\n",
       "> <code>parallel</code>(**`f`**, **`items`**, **\\*`args`**, **`n_workers`**=*`None`*, **\\*\\*`kwargs`**)\n",
       "\n",
       "Applies `func` in parallel to `items`, using `n_workers`"
      ],
      "text/plain": [
       "<IPython.core.display.Markdown object>"
      ]
     },
     "metadata": {},
     "output_type": "display_data"
    }
   ],
   "source": [
    "show_doc(parallel)"
   ]
  },
  {
   "cell_type": "code",
   "execution_count": null,
   "metadata": {},
   "outputs": [],
   "source": [
    "import time,random\n",
    "\n",
    "def add_one(x, a=1): \n",
    "    time.sleep(random.random()/100)\n",
    "    return x+a\n",
    "\n",
    "inp,exp = range(50),range(1,51)\n",
    "test_eq(parallel(add_one, inp, n_workers=2), list(exp))\n",
    "test_eq(parallel(add_one, inp, n_workers=0), list(exp))\n",
    "test_eq(parallel(add_one, inp, n_workers=1, a=2), list(range(2,52)))\n",
    "test_eq(parallel(add_one, inp, n_workers=0, a=2), list(range(2,52)))"
   ]
  },
  {
   "cell_type": "markdown",
   "metadata": {},
   "source": [
    "## Reading a notebook"
   ]
  },
  {
   "cell_type": "markdown",
   "metadata": {},
   "source": [
    "### What's a notebook?"
   ]
  },
  {
   "cell_type": "markdown",
   "metadata": {},
   "source": [
    "A jupyter notebook is a json file behind the scenes. We can just read it with the json module, which will return a nested dictionary of dictionaries/lists of dictionaries, but there are some small differences between reading the json and using the tools from `nbformat` so we'll use this one."
   ]
  },
  {
   "cell_type": "code",
   "execution_count": null,
   "metadata": {},
   "outputs": [],
   "source": [
    "#export\n",
    "def read_nb(fname):\n",
    "    \"Read the notebook in `fname`.\"\n",
    "    with open(Path(fname),'r', encoding='utf8') as f: return nbformat.reads(f.read(), as_version=4)"
   ]
  },
  {
   "cell_type": "markdown",
   "metadata": {},
   "source": [
    "`fname` can be a string or a pathlib object."
   ]
  },
  {
   "cell_type": "code",
   "execution_count": null,
   "metadata": {},
   "outputs": [],
   "source": [
    "test_nb = read_nb('00_export.ipynb')"
   ]
  },
  {
   "cell_type": "markdown",
   "metadata": {},
   "source": [
    "The root has four keys: `cells` contains the cells of the notebook, `metadata` some stuff around the version of python used to execute the notebook, `nbformat` and `nbformat_minor` the version of nbformat. "
   ]
  },
  {
   "cell_type": "code",
   "execution_count": null,
   "metadata": {},
   "outputs": [
    {
     "data": {
      "text/plain": [
       "dict_keys(['cells', 'metadata', 'nbformat', 'nbformat_minor'])"
      ]
     },
     "execution_count": null,
     "metadata": {},
     "output_type": "execute_result"
    }
   ],
   "source": [
    "test_nb.keys()"
   ]
  },
  {
   "cell_type": "code",
   "execution_count": null,
   "metadata": {},
   "outputs": [
    {
     "data": {
      "text/plain": [
       "{'kernelspec': {'display_name': 'Python 3',\n",
       "  'language': 'python',\n",
       "  'name': 'python3'},\n",
       " 'language_info': {'codemirror_mode': {'name': 'ipython', 'version': 3},\n",
       "  'file_extension': '.py',\n",
       "  'mimetype': 'text/x-python',\n",
       "  'name': 'python',\n",
       "  'nbconvert_exporter': 'python',\n",
       "  'pygments_lexer': 'ipython3',\n",
       "  'version': '3.7.4'}}"
      ]
     },
     "execution_count": null,
     "metadata": {},
     "output_type": "execute_result"
    }
   ],
   "source": [
    "test_nb['metadata']"
   ]
  },
  {
   "cell_type": "code",
   "execution_count": null,
   "metadata": {},
   "outputs": [
    {
     "data": {
      "text/plain": [
       "'4.4'"
      ]
     },
     "execution_count": null,
     "metadata": {},
     "output_type": "execute_result"
    }
   ],
   "source": [
    "f\"{test_nb['nbformat']}.{test_nb['nbformat_minor']}\""
   ]
  },
  {
   "cell_type": "markdown",
   "metadata": {},
   "source": [
    "The cells key then contains a list of cells. Each one is a new dictionary that contains entries like the type (code or markdown), the source (what is written in the cell) and the output (for code cells)."
   ]
  },
  {
   "cell_type": "code",
   "execution_count": null,
   "metadata": {},
   "outputs": [
    {
     "data": {
      "text/plain": [
       "{'cell_type': 'code',\n",
       " 'execution_count': 1,\n",
       " 'metadata': {'hide_input': False},\n",
       " 'outputs': [],\n",
       " 'source': '# export\\nfrom nbdev.imports import *\\nfrom fastscript import *'}"
      ]
     },
     "execution_count": null,
     "metadata": {},
     "output_type": "execute_result"
    }
   ],
   "source": [
    "test_nb['cells'][0]"
   ]
  },
  {
   "cell_type": "markdown",
   "metadata": {},
   "source": [
    "### Finding patterns"
   ]
  },
  {
   "cell_type": "markdown",
   "metadata": {},
   "source": [
    "The following functions are sued to catch the flags used in the code cells."
   ]
  },
  {
   "cell_type": "code",
   "execution_count": null,
   "metadata": {},
   "outputs": [],
   "source": [
    "# export\n",
    "def check_re(cell, pat, code_only=True):\n",
    "    \"Check if `cell` contains a line with regex `pat`\"\n",
    "    if code_only and cell['cell_type'] != 'code': return\n",
    "    if isinstance(pat, str): pat = re.compile(pat, re.IGNORECASE | re.MULTILINE)\n",
    "    return pat.search(cell['source'])"
   ]
  },
  {
   "cell_type": "markdown",
   "metadata": {},
   "source": [
    "`pat` can be a string or a compiled regex, if `code_only=True`, this function ignores markdown cells."
   ]
  },
  {
   "cell_type": "code",
   "execution_count": null,
   "metadata": {},
   "outputs": [],
   "source": [
    "cell = test_nb['cells'][0].copy()\n",
    "assert check_re(cell, '# export') is not None\n",
    "assert check_re(cell, re.compile('# export')) is not None\n",
    "assert check_re(cell, '# bla') is None\n",
    "cell['cell_type'] = 'markdown'\n",
    "assert check_re(cell, '# export') is None\n",
    "assert check_re(cell, '# export', code_only=False) is not None"
   ]
  },
  {
   "cell_type": "code",
   "execution_count": null,
   "metadata": {},
   "outputs": [],
   "source": [
    "# export\n",
    "_re_blank_export = re.compile(r\"\"\"\n",
    "# Matches any line with #export or #exports without any module name:\n",
    "^         # beginning of line (since re.MULTILINE is passed)\n",
    "\\s*       # any number of whitespace\n",
    "\\#\\s*     # # then any number of whitespace\n",
    "exports?  # export or exports\n",
    "\\s*       # any number of whitespace\n",
    "$         # end of line (since re.MULTILINE is passed)\n",
    "\"\"\", re.IGNORECASE | re.MULTILINE | re.VERBOSE)"
   ]
  },
  {
   "cell_type": "code",
   "execution_count": null,
   "metadata": {},
   "outputs": [],
   "source": [
    "# export\n",
    "_re_mod_export = re.compile(r\"\"\"\n",
    "# Matches any line with #export or #exports with a module name and catches it in group 1:\n",
    "^         # beginning of line (since re.MULTILINE is passed)\n",
    "\\s*       # any number of whitespace\n",
    "\\#\\s*     # # then any number of whitespace\n",
    "exports?  # export or exports\n",
    "\\s*       # any number of whitespace\n",
    "(\\S+)     # catch a group with any non-whitespace chars\n",
    "\\s*       # any number of whitespace\n",
    "$         # end of line (since re.MULTILINE is passed)\n",
    "\"\"\", re.IGNORECASE | re.MULTILINE | re.VERBOSE)"
   ]
  },
  {
   "cell_type": "code",
   "execution_count": null,
   "metadata": {},
   "outputs": [],
   "source": [
    "# export\n",
    "def is_export(cell, default):\n",
    "    \"Check if `cell` is to be exported and returns the name of the module to export it if provided\"\n",
    "    if check_re(cell, _re_blank_export):\n",
    "        if default is None:\n",
    "            print(f\"This cell doesn't have an export destination and was ignored:\\n{cell['source'][1]}\")\n",
    "        return default\n",
    "    tst = check_re(cell, _re_mod_export)\n",
    "    return os.path.sep.join(tst.groups()[0].split('.')) if tst else None"
   ]
  },
  {
   "cell_type": "markdown",
   "metadata": {},
   "source": [
    "The cells to export are marked with an `#export` or `#exports` code, potentially with a module name where we want it exported. The default module is given in a cell of the form `#default_exp bla` inside the notebook (usually at the top), though in this function, it needs the be passed (the final script will read the whole notebook to find it).\n",
    "- a cell marked with `# export` or `# exports` will be exported to the defualt module\n",
    "- a cell marked with `# export special.module` or `# exports special.module` will be exported in special.module (located in `lib_name`/special/module.py)"
   ]
  },
  {
   "cell_type": "code",
   "execution_count": null,
   "metadata": {},
   "outputs": [],
   "source": [
    "cell = test_nb['cells'][0].copy()\n",
    "test_eq(is_export(cell, 'export'), 'export')\n",
    "cell['source'] = \"# exports\" \n",
    "test_eq(is_export(cell, 'export'), 'export')\n",
    "cell['source'] = \"# export mod\" \n",
    "test_eq(is_export(cell, 'export'), 'mod')\n",
    "cell['source'] = \"# export mod.file\" \n",
    "test_eq(is_export(cell, 'export'), 'mod/file')\n",
    "cell['source'] = \"# expt mod.file\"\n",
    "assert is_export(cell, 'export') is None"
   ]
  },
  {
   "cell_type": "code",
   "execution_count": null,
   "metadata": {},
   "outputs": [],
   "source": [
    "# export\n",
    "_re_default_exp = re.compile(r\"\"\"\n",
    "# Matches any line with #default_exp with a module name and catches it in group 1:\n",
    "^            # beginning of line (since re.MULTILINE is passed)\n",
    "\\s*          # any number of whitespace\n",
    "\\#\\s*        # # then any number of whitespace\n",
    "default_exp  # export or exports\n",
    "\\s*          # any number of whitespace\n",
    "(\\S+)        # catch a group with any non-whitespace chars\n",
    "\\s*          # any number of whitespace\n",
    "$            # end of line (since re.MULTILINE is passed)\n",
    "\"\"\", re.IGNORECASE | re.MULTILINE | re.VERBOSE)"
   ]
  },
  {
   "cell_type": "code",
   "execution_count": null,
   "metadata": {},
   "outputs": [],
   "source": [
    "# export\n",
    "def find_default_export(cells):\n",
    "    \"Find in `cells` the default export module.\"\n",
    "    for cell in cells:\n",
    "        tst = check_re(cell, _re_default_exp)\n",
    "        if tst: return tst.groups()[0]"
   ]
  },
  {
   "cell_type": "markdown",
   "metadata": {},
   "source": [
    "Stops at the first cell containing a `# default_exp` flag (if there are several) and returns the value behind. Returns `None` if there are no cell with that code."
   ]
  },
  {
   "cell_type": "code",
   "execution_count": null,
   "metadata": {},
   "outputs": [],
   "source": [
    "test_eq(find_default_export(test_nb['cells']), 'export')\n",
    "assert find_default_export(test_nb['cells'][2:]) is None"
   ]
  },
  {
   "cell_type": "markdown",
   "metadata": {},
   "source": [
    "### Listing all exported objects"
   ]
  },
  {
   "cell_type": "markdown",
   "metadata": {},
   "source": [
    "The following functions make a list of everything that is exported to prepare a proper `__all__` for our exported module."
   ]
  },
  {
   "cell_type": "code",
   "execution_count": null,
   "metadata": {},
   "outputs": [],
   "source": [
    "#export\n",
    "_re_patch_func = re.compile(r\"\"\"\n",
    "# Catches any function decorated with @patch, its name in group 1 and the patched class in group 2\n",
    "@patch         # At any place in the cell, something that begins with @patch\n",
    "\\s*def         # Any number of whitespace (including a new line probably) followed by def\n",
    "\\s+            # One whitespace or more\n",
    "([^\\(\\s]*)     # Catch a group composed of anything but whitespace or an opening parenthesis (name of the function)\n",
    "\\s*\\(          # Any number of whitespace followed by an opening parenthesis\n",
    "[^:]*          # Any number of character different of : (the name of the first arg that is type-annotated)\n",
    ":\\s*           # A column followed by any number of whitespace\n",
    "(?:            # Non-catching group with either\n",
    "([^,\\s\\(\\)]*)  #    a group composed of anything but a comma, a parenthesis or whitespace (name of the class)\n",
    "|              #  or\n",
    "(\\([^\\)]*\\)))  #    a group composed of something between parenthesis (tuple of classes)\n",
    "\\s*            # Any number of whitespace\n",
    "(?:,|\\))       # Non-catching group with either a comma or a closing parenthesis\n",
    "\"\"\", re.VERBOSE)"
   ]
  },
  {
   "cell_type": "code",
   "execution_count": null,
   "metadata": {},
   "outputs": [],
   "source": [
    "#hide\n",
    "tst = _re_patch_func.search(\"\"\"\n",
    "@patch\n",
    "def func(obj:Class):\"\"\")\n",
    "test_eq(tst.groups(), (\"func\", \"Class\", None))\n",
    "tst = _re_patch_func.search(\"\"\"\n",
    "@patch\n",
    "def func (obj:Class, a)\"\"\")\n",
    "test_eq(tst.groups(), (\"func\", \"Class\", None))\n",
    "tst = _re_patch_func.search(\"\"\"\n",
    "@patch\n",
    "def func (obj:(Class1, Class2), a)\"\"\")\n",
    "test_eq(tst.groups(), (\"func\", None, \"(Class1, Class2)\"))"
   ]
  },
  {
   "cell_type": "code",
   "execution_count": null,
   "metadata": {},
   "outputs": [],
   "source": [
    "#export\n",
    "_re_typedispatch_func = re.compile(r\"\"\"\n",
    "# Catches any function decorated with @typedispatch\n",
    "(@typedispatch  # At any place in the cell, catch a group with something that begins with @patch\n",
    "\\s*def          # Any number of whitespace (including a new line probably) followed by def\n",
    "\\s+             # One whitespace or more\n",
    "[^\\(]*          # Anything but whitespace or an opening parenthesis (name of the function)\n",
    "\\s*\\(           # Any number of whitespace followed by an opening parenthesis\n",
    "[^\\)]*          # Any number of character different of )\n",
    "\\)\\s*:)         # A closing parenthesis followed by whitespace and :\n",
    "\"\"\", re.VERBOSE)"
   ]
  },
  {
   "cell_type": "code",
   "execution_count": null,
   "metadata": {},
   "outputs": [],
   "source": [
    "#hide\n",
    "assert _re_typedispatch_func.search(\"@typedispatch\\ndef func(a, b):\").groups() == ('@typedispatch\\ndef func(a, b):',)"
   ]
  },
  {
   "cell_type": "code",
   "execution_count": null,
   "metadata": {},
   "outputs": [],
   "source": [
    "#export\n",
    "_re_class_func_def = re.compile(r\"\"\"\n",
    "# Catches any 0-indented function or class definition with its name in group 1\n",
    "^              # Beginning of a line (since re.MULTILINE is passed)\n",
    "(?:def|class)  # Non-catching group for def or class\n",
    "\\s+            # One whitespace or more\n",
    "([^\\(\\s]*)     # Catching group with any character except an opening parenthesis or a whitespace (name)\n",
    "\\s*            # Any number of whitespace\n",
    "(?:\\(|:)       # Non-catching group with either an opening parenthesis or a : (classes don't need ())\n",
    "\"\"\", re.MULTILINE | re.VERBOSE)"
   ]
  },
  {
   "cell_type": "code",
   "execution_count": null,
   "metadata": {},
   "outputs": [],
   "source": [
    "#hide\n",
    "test_eq(_re_class_func_def.search(\"class Class:\").groups(), ('Class',))\n",
    "test_eq(_re_class_func_def.search(\"def func(a, b):\").groups(), ('func',))"
   ]
  },
  {
   "cell_type": "code",
   "execution_count": null,
   "metadata": {},
   "outputs": [],
   "source": [
    "#export\n",
    "_re_obj_def = re.compile(r\"\"\"\n",
    "# Catches any 0-indented object definition (bla = thing) with its name in group 1\n",
    "^          # Beginning of a line (since re.MULTILINE is passed)\n",
    "([^=\\s]*)  # Catching group with any character except a whitespace or an equal sign\n",
    "\\s*=       # Any number of whitespace followed by an =\n",
    "\"\"\", re.MULTILINE | re.VERBOSE)"
   ]
  },
  {
   "cell_type": "code",
   "execution_count": null,
   "metadata": {},
   "outputs": [],
   "source": [
    "#hide\n",
    "test_eq(_re_obj_def.search(\"a = 1\").groups(), ('a',))\n",
    "test_eq(_re_obj_def.search(\"a=1\").groups(), ('a',))"
   ]
  },
  {
   "cell_type": "code",
   "execution_count": null,
   "metadata": {},
   "outputs": [],
   "source": [
    "# export\n",
    "def _not_private(n):\n",
    "    for t in n.split('.'):\n",
    "        if (t.startswith('_') and not t.startswith('__')) or t.startswith('@'): return False\n",
    "    return '\\\\' not in t and '^' not in t and '[' not in t\n",
    "\n",
    "def export_names(code, func_only=False):\n",
    "    \"Find the names of the objects, functions or classes defined in `code` that are exported.\"\n",
    "    #Format monkey-patches with @patch\n",
    "    def _f(gps):\n",
    "        nm, cls, t = gps.groups()\n",
    "        if cls is not None: return f\"def {cls}.{nm}():\"\n",
    "        return '\\n'.join([f\"def {c}.{nm}():\" for c in re.split(', *', t[1:-1])])\n",
    "\n",
    "    code = _re_typedispatch_func.sub('', code)\n",
    "    code = _re_patch_func.sub(_f, code)\n",
    "    names = _re_class_func_def.findall(code)\n",
    "    if not func_only: names += _re_obj_def.findall(code)\n",
    "    return [n for n in names if _not_private(n)]"
   ]
  },
  {
   "cell_type": "markdown",
   "metadata": {},
   "source": [
    "This function only picks the zero-indented objects on the left side of an =, functions or classes (we don't want the class methods for instance) and excludes private names (that begin with `_`) but no dunder names. It only returns func and class names (not the objects) when `func_only=True`. \n",
    "\n",
    "To work properly with fastai added python functionality, this function ignores function decorated with `@typedispatch` (since they are defined multiple times) and unwraps properly functions decorated with `@patch`."
   ]
  },
  {
   "cell_type": "code",
   "execution_count": null,
   "metadata": {},
   "outputs": [],
   "source": [
    "test_eq(export_names(\"def my_func(x):\\n  pass\\nclass MyClass():\"), [\"my_func\", \"MyClass\"])\n",
    "\n",
    "#Indented funcs are ignored (funcs inside a class)\n",
    "test_eq(export_names(\"  def my_func(x):\\n  pass\\nclass MyClass():\"), [\"MyClass\"])\n",
    "\n",
    "#Private funcs are ignored, dunder are not\n",
    "test_eq(export_names(\"def _my_func():\\n  pass\\nclass MyClass():\"), [\"MyClass\"])\n",
    "test_eq(export_names(\"__version__ = 1:\\n  pass\\nclass MyClass():\"), [\"MyClass\", \"__version__\"])\n",
    "\n",
    "#trailing spaces\n",
    "test_eq(export_names(\"def my_func ():\\n  pass\\nclass MyClass():\"), [\"my_func\", \"MyClass\"])\n",
    "\n",
    "#class without parenthesis\n",
    "test_eq(export_names(\"def my_func ():\\n  pass\\nclass MyClass:\"), [\"my_func\", \"MyClass\"])\n",
    "\n",
    "#object and funcs\n",
    "test_eq(export_names(\"def my_func ():\\n  pass\\ndefault_bla=[]:\"), [\"my_func\", \"default_bla\"])\n",
    "test_eq(export_names(\"def my_func ():\\n  pass\\ndefault_bla=[]:\", func_only=True), [\"my_func\"])\n",
    "\n",
    "#Private objects are ignored\n",
    "test_eq(export_names(\"def my_func ():\\n  pass\\n_default_bla = []:\"), [\"my_func\"])\n",
    "\n",
    "#Objects with dots are privates if one part is private\n",
    "test_eq(export_names(\"def my_func ():\\n  pass\\ndefault.bla = []:\"), [\"my_func\", \"default.bla\"])\n",
    "test_eq(export_names(\"def my_func ():\\n  pass\\ndefault._bla = []:\"), [\"my_func\"])\n",
    "\n",
    "#Monkey-path with @patch are properly renamed\n",
    "test_eq(export_names(\"@patch\\ndef my_func(x:Class):\\n  pass\"), [\"Class.my_func\"])\n",
    "test_eq(export_names(\"@patch\\ndef my_func(x:Class):\\n  pass\", func_only=True), [\"Class.my_func\"])\n",
    "test_eq(export_names(\"some code\\n@patch\\ndef my_func(x:Class, y):\\n  pass\"), [\"Class.my_func\"])\n",
    "test_eq(export_names(\"some code\\n@patch\\ndef my_func(x:(Class1,Class2), y):\\n  pass\"), [\"Class1.my_func\", \"Class2.my_func\"])\n",
    "\n",
    "#Check delegates\n",
    "test_eq(export_names(\"@delegates(keep=True)\\nclass someClass:\\n  pass\"), [\"someClass\"])\n",
    "\n",
    "#Typedispatch decorated functions shouldn't be added\n",
    "test_eq(export_names(\"@patch\\ndef my_func(x:Class):\\n  pass\\n@typedispatch\\ndef func(x: TensorImage): pass\"), [\"Class.my_func\"])"
   ]
  },
  {
   "cell_type": "code",
   "execution_count": null,
   "metadata": {},
   "outputs": [],
   "source": [
    "#export\n",
    "_re_all_def   = re.compile(r\"\"\"\n",
    "# Catches a cell with defines \\_all\\_ = [\\*\\*] and get that \\*\\* in group 1\n",
    "^_all_   #  Beginning of line (since re.MULTILINE is passed)\n",
    "\\s*=\\s*  #  Any number of whitespace, =, any number of whitespace\n",
    "\\[       #  Opening [\n",
    "([^\\n\\]]*) #  Catching group with anything except a ] or newline\n",
    "\\]       #  Closing ]\n",
    "\"\"\", re.MULTILINE | re.VERBOSE)\n",
    "\n",
    "#Same with __all__\n",
    "_re__all__def = re.compile(r'^__all__\\s*=\\s*\\[([^\\]]*)\\]', re.MULTILINE)"
   ]
  },
  {
   "cell_type": "code",
   "execution_count": null,
   "metadata": {},
   "outputs": [],
   "source": [
    "# export\n",
    "def extra_add(code):\n",
    "    \"Catch adds to `__all__` required by a cell with `_all_=`\"\n",
    "    if _re_all_def.search(code):\n",
    "        names = _re_all_def.search(code).groups()[0]\n",
    "        names = re.sub('\\s*,\\s*', ',', names)\n",
    "        names = names.replace('\"', \"'\")\n",
    "        code = _re_all_def.sub('', code)\n",
    "        code = re.sub(r'([^\\n]|^)\\n*$', r'\\1', code)\n",
    "        return names.split(','),code\n",
    "    return [],code"
   ]
  },
  {
   "cell_type": "markdown",
   "metadata": {},
   "source": [
    "Sometimes objects are not picked to be automatically added to the `__all__` of the module so you will need to add them manually. To do so, create an exported cell with the following code `_all_ = [\"name\"]` (the single underscores are intentional)>"
   ]
  },
  {
   "cell_type": "code",
   "execution_count": null,
   "metadata": {},
   "outputs": [],
   "source": [
    "test_eq(extra_add('_all_ = [\"func\", \"func1\", \"func2\"]'), ([\"'func'\", \"'func1'\", \"'func2'\"],''))\n",
    "test_eq(extra_add('_all_ = [\"func\",   \"func1\" , \"func2\"]'), ([\"'func'\", \"'func1'\", \"'func2'\"],''))\n",
    "test_eq(extra_add(\"_all_ = ['func','func1', 'func2']\\n\"), ([\"'func'\", \"'func1'\", \"'func2'\"],''))\n",
    "test_eq(extra_add('code\\n\\n_all_ = [\"func\", \"func1\", \"func2\"]'), ([\"'func'\", \"'func1'\", \"'func2'\"],'code'))"
   ]
  },
  {
   "cell_type": "code",
   "execution_count": null,
   "metadata": {},
   "outputs": [],
   "source": [
    "#export\n",
    "def _add2add(fname, names, line_width=120):\n",
    "    if len(names) == 0: return\n",
    "    with open(fname, 'r', encoding='utf8') as f: text = f.read()\n",
    "    tw = TextWrapper(width=120, initial_indent='', subsequent_indent=' '*11, break_long_words=False)\n",
    "    re_all = _re__all__def.search(text)\n",
    "    start,end = re_all.start(),re_all.end()\n",
    "    text_all = tw.wrap(f\"{text[start:end-1]}{'' if text[end-2]=='[' else ', '}{', '.join(names)}]\")\n",
    "    with open(fname, 'w', encoding='utf8') as f: f.write(text[:start] + '\\n'.join(text_all) + text[end:])"
   ]
  },
  {
   "cell_type": "code",
   "execution_count": null,
   "metadata": {},
   "outputs": [],
   "source": [
    "fname = 'test_add.txt'\n",
    "with open(fname, 'w', encoding='utf8') as f: f.write(\"Bla\\n__all__ = [my_file, MyClas]\\nBli\")\n",
    "_add2add(fname, ['new_function'])\n",
    "with open(fname, 'r', encoding='utf8') as f: \n",
    "    test_eq(f.read(), \"Bla\\n__all__ = [my_file, MyClas, new_function]\\nBli\")\n",
    "_add2add(fname, [f'new_function{i}' for i in range(10)])\n",
    "with open(fname, 'r', encoding='utf8') as f: \n",
    "    test_eq(f.read(), \"\"\"Bla\n",
    "__all__ = [my_file, MyClas, new_function, new_function0, new_function1, new_function2, new_function3, new_function4,\n",
    "           new_function5, new_function6, new_function7, new_function8, new_function9]\n",
    "Bli\"\"\")\n",
    "os.remove(fname)"
   ]
  },
  {
   "cell_type": "code",
   "execution_count": null,
   "metadata": {},
   "outputs": [],
   "source": [
    "# export\n",
    "def relative_import(name, fname):\n",
    "    \"Convert a module `name` to a name relative to `fname`\"\n",
    "    mods = name.split('.')\n",
    "    splits = str(fname).split(os.path.sep)\n",
    "    if mods[0] not in splits: return name\n",
    "    i=len(splits)-1\n",
    "    while i>0 and splits[i] != mods[0]: i-=1\n",
    "    splits = splits[i:]\n",
    "    while len(mods)>0 and splits[0] == mods[0]: splits,mods = splits[1:],mods[1:]\n",
    "    return '.' * (len(splits)) + '.'.join(mods)"
   ]
  },
  {
   "cell_type": "markdown",
   "metadata": {},
   "source": [
    "When we say from \n",
    "``` python\n",
    "from lib_name.module.submodule import bla\n",
    "``` \n",
    "in a notebook, it needs to be converted to something like \n",
    "```\n",
    "from .module.submodule import bla\n",
    "```\n",
    "or \n",
    "```from .submodule import bla``` \n",
    "depending on where we are. This function deals with those imports renaming."
   ]
  },
  {
   "cell_type": "code",
   "execution_count": null,
   "metadata": {},
   "outputs": [],
   "source": [
    "test_eq(relative_import('nbdev.core', Path.cwd()/'nbdev'/'data.py'), '.core')\n",
    "test_eq(relative_import('nbdev.core', Path('nbdev')/'vision'/'data.py'), '..core')\n",
    "test_eq(relative_import('nbdev.vision.transform', Path('nbdev')/'vision'/'data.py'), '.transform')\n",
    "test_eq(relative_import('nbdev.notebook.core', Path('nbdev')/'data'/'external.py'), '..notebook.core')\n",
    "test_eq(relative_import('nbdev.vision', Path('nbdev')/'vision'/'learner.py'), '.')"
   ]
  },
  {
   "cell_type": "code",
   "execution_count": null,
   "metadata": {},
   "outputs": [],
   "source": [
    "#export\n",
    "_re_import = ReLibName(r'^(\\s*)from (LIB_NAME\\.\\S*) import (.*)$')\n",
    "_re_import1 = ReLibName(r'^(\\s*)import (LIB_NAME\\.\\S*)(.*)$')"
   ]
  },
  {
   "cell_type": "code",
   "execution_count": null,
   "metadata": {},
   "outputs": [],
   "source": [
    "# export\n",
    "def _deal_import(code_lines, fname):\n",
    "    def _replace(m):\n",
    "        sp,mod,obj = m.groups()\n",
    "        return f\"{sp}from {relative_import(mod, fname)} import {obj}\"\n",
    "    def _replace1(m):\n",
    "        sp,mod,end = m.groups()\n",
    "        return f\"{sp}import {relative_import(mod, fname)}{end}\"\n",
    "    return [_re_import1.re.sub(_replace1, _re_import.re.sub(_replace,line)) for line in code_lines]"
   ]
  },
  {
   "cell_type": "code",
   "execution_count": null,
   "metadata": {},
   "outputs": [],
   "source": [
    "#hide\n",
    "lines = [\"from nbdev.core import *\", \n",
    "         \"nothing to see\", \n",
    "         \"  from nbdev.vision import bla1, bla2\", \n",
    "         \"from nbdev.vision import models\",\n",
    "         \"import nbdev.vision\",\n",
    "         \"import nbdev.utils as u\"]\n",
    "test_eq(_deal_import(lines, Path.cwd()/'nbdev'/'data.py'), [\n",
    "    \"from .core import *\", \n",
    "    \"nothing to see\", \n",
    "    \"  from .vision import bla1, bla2\", \n",
    "    \"from .vision import models\",\n",
    "    \"import .vision\",\n",
    "    \"import .utils as u\"\n",
    "])"
   ]
  },
  {
   "cell_type": "markdown",
   "metadata": {},
   "source": [
    "## Create the library"
   ]
  },
  {
   "cell_type": "markdown",
   "metadata": {},
   "source": [
    "### Saving an index"
   ]
  },
  {
   "cell_type": "markdown",
   "metadata": {},
   "source": [
    "To be able to build back a correspondence between functions and the notebooks they are defined in, we need to store an index. It's done in the private module `_nbdev` inside your library, and the following function are used to define it."
   ]
  },
  {
   "cell_type": "code",
   "execution_count": null,
   "metadata": {},
   "outputs": [],
   "source": [
    "#export\n",
    "_re_patch_func = re.compile(r\"\"\"\n",
    "# Catches any function decorated with @patch, its name in group 1 and the patched class in group 2\n",
    "@patch         # At any place in the cell, something that begins with @patch\n",
    "\\s*def         # Any number of whitespace (including a new line probably) followed by def\n",
    "\\s+            # One whitespace or more\n",
    "([^\\(\\s]*)     # Catch a group composed of anything but whitespace or an opening parenthesis (name of the function)\n",
    "\\s*\\(          # Any number of whitespace followed by an opening parenthesis\n",
    "[^:]*          # Any number of character different of : (the name of the first arg that is type-annotated)\n",
    ":\\s*           # A column followed by any number of whitespace\n",
    "(?:            # Non-catching group with either\n",
    "([^,\\s\\(\\)]*)  #    a group composed of anything but a comma, a parenthesis or whitespace (name of the class)\n",
    "|              #  or\n",
    "(\\([^\\)]*\\)))  #    a group composed of something between parenthesis (tuple of classes)\n",
    "\\s*            # Any number of whitespace\n",
    "(?:,|\\))       # Non-catching group with either a comma or a closing parenthesis\n",
    "\"\"\", re.VERBOSE)"
   ]
  },
  {
   "cell_type": "code",
   "execution_count": null,
   "metadata": {},
   "outputs": [],
   "source": [
    "#export\n",
    "def reset_nbdev_module():\n",
    "    \"Create a skeletton for `_nbdev`\"\n",
    "    fname = Config().lib_path/'_nbdev.py'\n",
    "    fname.parent.mkdir(parents=True, exist_ok=True)\n",
    "    with open(fname, 'w') as f:\n",
    "        f.write(f\"#AUTOGENERATED BY NBDEV! DO NOT EDIT!\")\n",
    "        f.write('\\n\\n__all__ = [\"index\", \"modules\", \"custom_doc_links\", \"git_url\"]')\n",
    "        f.write('\\n\\nindex = {}')\n",
    "        f.write('\\n\\nmodules = []')\n",
    "        f.write(f'\\n\\ngit_url = \"{Config().git_url}\"')\n",
    "        f.write('\\n\\ndef custom_doc_links(name): return None')"
   ]
  },
  {
   "cell_type": "code",
   "execution_count": null,
   "metadata": {},
   "outputs": [],
   "source": [
    "# export\n",
    "class _EmptyModule():\n",
    "    def __init__(self): self.index,self.modules,self.git_url = {},[],\"\"\n",
    "    def custom_doc_links(self, name): return None"
   ]
  },
  {
   "cell_type": "code",
   "execution_count": null,
   "metadata": {},
   "outputs": [],
   "source": [
    "# export\n",
    "def get_nbdev_module():\n",
    "    \"Reads `_nbdev`\"\n",
    "    try:\n",
    "        spec = importlib.util.spec_from_file_location(f\"{Config().lib_name}._nbdev\", Config().lib_path/'_nbdev.py')\n",
    "        mod = importlib.util.module_from_spec(spec)\n",
    "        spec.loader.exec_module(mod)\n",
    "        return mod\n",
    "    except: return _EmptyModule()"
   ]
  },
  {
   "cell_type": "code",
   "execution_count": null,
   "metadata": {},
   "outputs": [],
   "source": [
    "#export\n",
    "_re_index_idx = re.compile(r'index\\s*=\\s*{[^}]*}')\n",
    "_re_index_mod = re.compile(r'modules\\s*=\\s*\\[[^\\]]*\\]')"
   ]
  },
  {
   "cell_type": "code",
   "execution_count": null,
   "metadata": {},
   "outputs": [],
   "source": [
    "#export\n",
    "def save_nbdev_module(mod):\n",
    "    \"Save `mod` inside `_nbdev`\"\n",
    "    fname = Config().lib_path/'_nbdev.py'\n",
    "    with open(fname, 'r') as f: code = f.read()\n",
    "    t = r',\\n         '.join([f'\"{k}\": \"{v}\"' for k,v in mod.index.items()])\n",
    "    code = _re_index_idx.sub(\"index = {\"+ t +\"}\", code)\n",
    "    t = r',\\n           '.join([f'\"{f}\"' for f in mod.modules])\n",
    "    code = _re_index_mod.sub(f\"modules = [{t}]\", code)\n",
    "    with open(fname, 'w') as f: f.write(code)"
   ]
  },
  {
   "cell_type": "code",
   "execution_count": null,
   "metadata": {},
   "outputs": [],
   "source": [
    "#hide\n",
    "ind,ind_bak = Config().lib_path/'_nbdev.py',Config().lib_path/'_nbdev.bak'\n",
    "if ind.exists(): shutil.move(ind, ind_bak)\n",
    "try:\n",
    "    reset_nbdev_module()\n",
    "    mod = get_nbdev_module()\n",
    "    test_eq(mod.index, {})\n",
    "    test_eq(mod.modules, [])\n",
    "\n",
    "    mod.index = {'foo':'bar'}\n",
    "    mod.modules.append('lala.bla')\n",
    "    save_nbdev_module(mod)\n",
    "\n",
    "    mod = get_nbdev_module()\n",
    "    test_eq(mod.index, {'foo':'bar'})\n",
    "    test_eq(mod.modules, ['lala.bla'])\n",
    "finally:\n",
    "    if ind_bak.exists(): shutil.move(ind_bak, ind)"
   ]
  },
  {
   "cell_type": "markdown",
   "metadata": {},
   "source": [
    "### Create the modules"
   ]
  },
  {
   "cell_type": "code",
   "execution_count": null,
   "metadata": {},
   "outputs": [],
   "source": [
    "# export\n",
    "def create_mod_file(fname, nb_path):\n",
    "    \"Create a module file for `fname`.\"\n",
    "    fname.parent.mkdir(parents=True, exist_ok=True)\n",
    "    with open(fname, 'w') as f:\n",
    "        f.write(f\"#AUTOGENERATED! DO NOT EDIT! File to edit: dev/{nb_path.name} (unless otherwise specified).\")\n",
    "        f.write('\\n\\n__all__ = []')"
   ]
  },
  {
   "cell_type": "markdown",
   "metadata": {},
   "source": [
    "A new module filename is created each time a notebook has a cell marked with `# default_exp`. In your collection of notebooks, you should only have one notebook that creates a given module since they are re-created each time you do a library build (to ensure the library is clean). Note that any file you create manually will never be overwritten (unless it has the same name as one of the modules defined in a `# default_exp` cell) so you are responsible to clean up those yourself.\n",
    "\n",
    "`nb_fname` is the notebook that contained the `# default_exp` cell."
   ]
  },
  {
   "cell_type": "code",
   "execution_count": null,
   "metadata": {},
   "outputs": [],
   "source": [
    "#export\n",
    "def _notebook2script(fname, silent=False, to_dict=None):\n",
    "    \"Finds cells starting with `#export` and puts them into a new module\"\n",
    "    if os.environ.get('IN_TEST',0): return  # don't export if running tests\n",
    "    fname = Path(fname)\n",
    "    nb = read_nb(fname)\n",
    "    default = find_default_export(nb['cells'])\n",
    "    if default is not None:\n",
    "        default = os.path.sep.join(default.split('.'))\n",
    "        if to_dict is None: create_mod_file(Config().lib_path/f'{default}.py', fname)\n",
    "    mod = get_nbdev_module()\n",
    "    exports = [is_export(c, default) for c in nb['cells']]\n",
    "    cells = [(i,c,e) for i,(c,e) in enumerate(zip(nb['cells'],exports)) if e is not None]\n",
    "    for i,c,e in cells:\n",
    "        fname_out = Config().lib_path/f'{e}.py'\n",
    "        orig = ('#C' if e==default else f'#Comes from {fname.name}, c') + 'ell\\n'\n",
    "        code = '\\n\\n' + orig + '\\n'.join(_deal_import(c['source'].split('\\n')[1:], fname_out))\n",
    "        # remove trailing spaces\n",
    "        names = export_names(code)\n",
    "        extra,code = extra_add(code)\n",
    "        if to_dict is None: _add2add(fname_out, [f\"'{f}'\" for f in names if '.' not in f and len(f) > 0] + extra)\n",
    "        mod.index.update({f: fname.name for f in names})\n",
    "        code = re.sub(r' +$', '', code, flags=re.MULTILINE)\n",
    "        if code != '\\n\\n' + orig[:-1]:\n",
    "            if to_dict is not None: to_dict[fname_out].append((i, fname, code))\n",
    "            else:\n",
    "                with open(fname_out, 'a', encoding='utf8') as f: f.write(code)\n",
    "        if f'{e}.py' not in mod.modules: mod.modules.append(f'{e}.py')\n",
    "    save_nbdev_module(mod)\n",
    "\n",
    "    if not silent: print(f\"Converted {fname.name}.\")\n",
    "    return to_dict"
   ]
  },
  {
   "cell_type": "code",
   "execution_count": null,
   "metadata": {},
   "outputs": [
    {
     "name": "stdout",
     "output_type": "stream",
     "text": [
      "Converted 00_export.ipynb.\n"
     ]
    }
   ],
   "source": [
    "#hide\n",
    "_notebook2script('00_export.ipynb')"
   ]
  },
  {
   "cell_type": "code",
   "execution_count": null,
   "metadata": {},
   "outputs": [],
   "source": [
    "#export\n",
    "def add_init(path):\n",
    "    \"Add `__init__.py` in all subdirs of `path` containing python files if it's not there already\"\n",
    "    for p,d,f in os.walk(path):\n",
    "        for f_ in f:\n",
    "            if f_.endswith('.py'):\n",
    "                if not (Path(p)/'__init__.py').exists(): (Path(p)/'__init__.py').touch()\n",
    "                break"
   ]
  },
  {
   "cell_type": "code",
   "execution_count": null,
   "metadata": {},
   "outputs": [],
   "source": [
    "with tempfile.TemporaryDirectory() as d:\n",
    "    os.makedirs(Path(d)/'a', exist_ok=True)\n",
    "    (Path(d)/'a'/'f.py').touch()\n",
    "    os.makedirs(Path(d)/'a/b', exist_ok=True)\n",
    "    (Path(d)/'a'/'b'/'f.py').touch()\n",
    "    add_init(d)\n",
    "    assert not (Path(d)/'__init__.py').exists()\n",
    "    for e in [Path(d)/'a', Path(d)/'a/b']:\n",
    "        assert (e/'__init__.py').exists()"
   ]
  },
  {
   "cell_type": "code",
   "execution_count": null,
   "metadata": {},
   "outputs": [],
   "source": [
    "#export \n",
    "def notebook2script(fname=None, silent=False, to_dict=False):\n",
    "    \"Convert notebooks matching `fname` to modules\"\n",
    "    # initial checks\n",
    "    if os.environ.get('IN_TEST',0): return  # don't export if running tests\n",
    "    if fname is None:\n",
    "        reset_nbdev_module()\n",
    "        files = [f for f in Config().nbs_path.glob('*.ipynb') if not f.name.startswith('_')]\n",
    "    else: files = glob.glob(fname)\n",
    "    d = collections.defaultdict(list) if to_dict else None\n",
    "    for f in sorted(files): d = _notebook2script(f, silent=silent, to_dict=d)\n",
    "    if to_dict: return d\n",
    "    else: add_init(Config().lib_path)"
   ]
  },
  {
   "cell_type": "markdown",
   "metadata": {},
   "source": [
    "Finds cells starting with `#export` and puts them into the appropriate module. If `fname` is not specified, this will convert all notebook not beginning with an underscore in the `nb_folder` defined in `setting.ini`. Otherwise `fname` can be a single filename or a glob expression.\n",
    "\n",
    "`silent` makes the command not print any statement and `to_dict` is used internally to convert the library to a dictionary. "
   ]
  },
  {
   "cell_type": "code",
   "execution_count": null,
   "metadata": {},
   "outputs": [],
   "source": [
    "#hide\n",
    "#export\n",
    "#for tests only\n",
    "class DocsTestClass:\n",
    "    def test(): pass"
   ]
  },
  {
   "cell_type": "markdown",
   "metadata": {},
   "source": [
    "## Export -"
   ]
  },
  {
   "cell_type": "code",
   "execution_count": null,
   "metadata": {},
   "outputs": [
    {
     "name": "stdout",
     "output_type": "stream",
     "text": [
      "Converted 00_export.ipynb.\n",
      "Converted 01_sync.ipynb.\n",
      "Converted 02_showdoc.ipynb.\n",
      "Converted 03_export2html.ipynb.\n",
      "Converted 04_test.ipynb.\n",
      "Converted 05_merge.ipynb.\n",
      "Converted 06_cli.ipynb.\n",
      "Converted 99_search.ipynb.\n",
      "Converted index.ipynb.\n"
     ]
    }
   ],
   "source": [
    "#hide\n",
    "notebook2script()"
   ]
  },
  {
   "cell_type": "code",
   "execution_count": null,
   "metadata": {},
   "outputs": [],
   "source": []
  }
 ],
 "metadata": {
  "kernelspec": {
   "display_name": "Python 3",
   "language": "python",
   "name": "python3"
  }
 },
 "nbformat": 4,
 "nbformat_minor": 4
}
